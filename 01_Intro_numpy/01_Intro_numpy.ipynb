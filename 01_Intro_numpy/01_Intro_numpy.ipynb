{
 "cells": [
  {
   "cell_type": "markdown",
   "metadata": {},
   "source": [
    "<img src=\"escudo_utfsm.gif\" style=\"float:right;height:100px\">\n",
    "<img src=\"IsotipoDIisocolor.png\" style=\"float:left;height:100px\">\n",
    "<center>\n",
    "    <h1> Programación cientifica en Python</h1>\n",
    "    <h1> Tópico 1: Introducción y numpy</h1>\n",
    "    <h3> _Abril 2018_</h3>\n",
    "</center>\n",
    "\n",
    "_Notebook created by Roberto Fuentes - `roberto.fuentes@alumnos.usm.cl`- DI UTFSM ._"
   ]
  },
  {
   "cell_type": "code",
   "execution_count": null,
   "metadata": {},
   "outputs": [],
   "source": [
    "%matplotlib inline\n",
    "import numpy as np\n",
    "import matplotlib.pyplot as plt\n",
    "import scipy as sp\n",
    "\n",
    "from mpl_toolkits.axes_grid1 import make_axes_locatable\n",
    "import librosa.display\n",
    "import IPython.display as ipd"
   ]
  },
  {
   "cell_type": "markdown",
   "metadata": {},
   "source": [
    "## Tabla de contenidos\n",
    "* [1.- IPython](#ipython)\n",
    "* [2.- Jupyter Notebook](#jupyter)\n",
    "* [3.- Magics](#magics)\n",
    "* [4.- NumPy](#numpy)\n",
    "* [5.- Dentro de Numpy](#internals) \n",
    "* [6.- Programando eficientemente con NumPy](#efficient)"
   ]
  },
  {
   "cell_type": "markdown",
   "metadata": {},
   "source": [
    "<div id='ipython' />\n",
    "## 1.- IPython\n",
    "\n",
    "_IPython_ no es mas que una versión mejorada del shell de _Python_ estándar, que proporciona herramientas para computación interactiva.\n",
    "\n",
    "Algunas características interesantes de _IPython_ son:\n",
    "\n",
    "* Mejor resaltado de sintaxis.\n",
    "* Acceso directo a los comandos bash / linux (`cd`,` ls`, `pwd`,` rm`, `mkdir`, etc.). Los comandos adicionales se pueden ejecutar con: `! Command`.\n",
    "* comando `who` para ver las variables definidas en la sesión actual.\n",
    "* Inspeccionar los objetos con `?`.\n",
    "* Y __magics__, que veremos en breve."
   ]
  },
  {
   "cell_type": "markdown",
   "metadata": {},
   "source": [
    "## Algunos ejemplos"
   ]
  },
  {
   "cell_type": "code",
   "execution_count": null,
   "metadata": {},
   "outputs": [],
   "source": [
    "!ls"
   ]
  },
  {
   "cell_type": "code",
   "execution_count": null,
   "metadata": {},
   "outputs": [],
   "source": [
    "!pwd"
   ]
  },
  {
   "cell_type": "code",
   "execution_count": null,
   "metadata": {},
   "outputs": [],
   "source": [
    "!mkdir Ejemplo"
   ]
  },
  {
   "cell_type": "code",
   "execution_count": null,
   "metadata": {},
   "outputs": [],
   "source": [
    "!cd Ejemplo/"
   ]
  },
  {
   "cell_type": "code",
   "execution_count": null,
   "metadata": {},
   "outputs": [],
   "source": [
    "!echo \"Soy un ejemplo! :)\" > Ejemplo/myfile.txt"
   ]
  },
  {
   "cell_type": "code",
   "execution_count": null,
   "metadata": {},
   "outputs": [],
   "source": [
    "!ls Ejemplo/"
   ]
  },
  {
   "cell_type": "code",
   "execution_count": null,
   "metadata": {},
   "outputs": [],
   "source": [
    "!rm -R Ejemplo/"
   ]
  },
  {
   "cell_type": "code",
   "execution_count": null,
   "metadata": {},
   "outputs": [],
   "source": [
    "who"
   ]
  },
  {
   "cell_type": "code",
   "execution_count": null,
   "metadata": {},
   "outputs": [],
   "source": [
    "?np"
   ]
  },
  {
   "cell_type": "markdown",
   "metadata": {},
   "source": [
    "<div id='jupyter' />\n",
    "## 2.- Jupyter Notebook\n",
    "\n",
    "Es un entorno interactivo basado en web que combina **codigo**, **imagenes**, **videos**, **animaciones**, **matemática**, **lenguaje markdown ** and **gráficos (plot)** en un solo documento. Esta herramienta es un buen comienzo para la computación numérica y el *DataScience* en Python."
   ]
  },
  {
   "cell_type": "markdown",
   "metadata": {},
   "source": [
    "# Podemos construir titulos grande\n",
    "\n",
    "#### o titulos más pequeños\n",
    "\n",
    "Podemos crear **textos cons links** [links](http://ipython.org)\n",
    "\n",
    "Tambien podemos escribir ecuaciones como en LaTeX:\n",
    "$$\n",
    "E_T = \\sum_{l=1}^{N} \\sum_{x_k \\in \\Omega_l} \\left( F\\left(x_k,S_i(x_k), S_i'(x_k),S_i''(x_k)\\right)\\right)^2.\n",
    "$$\n",
    "\n",
    "Codigo con sintaxis _highlighting_ (resaltado):\n",
    "```python\n",
    "def fibonacci(n):\n",
    "  if n <= 1:\n",
    "    return n\n",
    "  else:\n",
    "    return fibonacci(n-1) + fibonacci(n-2)\n",
    "```\n",
    "Podemos mostrar imagenes!: ![This is an image](data/white_fox.jpg)\n",
    "\n",
    "y distintos plots:"
   ]
  },
  {
   "cell_type": "code",
   "execution_count": null,
   "metadata": {},
   "outputs": [],
   "source": [
    "xgrid = np.linspace(-3,3,50)\n",
    "f1 = np.exp(-xgrid**2)\n",
    "f2 = np.tanh(xgrid)\n",
    "f3 = xgrid/max(xgrid)\n",
    "fig = plt.figure(figsize=(18, 10))\n",
    "plt.plot(xgrid, f1, 'bo-', label = \"Example curve 1\")\n",
    "plt.plot(xgrid, f2, 'ro-', label = \"Example curve 2\")\n",
    "plt.plot(xgrid, f3, 'yo-', label = \"Example curve 2\")\n",
    "plt.legend(loc=4, borderaxespad=0., fontsize = 20)\n",
    "plt.grid()\n",
    "plt.xlabel(r\"$x$\",fontsize = 20)\n",
    "plt.ylabel(r\"$y$\",fontsize = 20)\n",
    "plt.title(r\"Just a demo plot for $e^x$, $\\tanh(x)$ and normalized $y = x$ function\",fontsize = 20)\n",
    "plt.show()"
   ]
  },
  {
   "cell_type": "markdown",
   "metadata": {},
   "source": [
    "_Ipython_ tambien cuenta con un sofisticado sistema de *display* que nos permite insertar elementos web en los _notebooks_. Aqui tenemos por ejemplo un video de **Youtube** mostrado directamente en el _notebook_:  "
   ]
  },
  {
   "cell_type": "code",
   "execution_count": null,
   "metadata": {},
   "outputs": [],
   "source": [
    "from IPython.display import YouTubeVideo\n",
    "YouTubeVideo('uwmeH6Rnj2E')"
   ]
  },
  {
   "cell_type": "markdown",
   "metadata": {},
   "source": [
    "Incluso podemos mostrar audio en distintos formatos:"
   ]
  },
  {
   "cell_type": "code",
   "execution_count": null,
   "metadata": {},
   "outputs": [],
   "source": [
    "x, sr = librosa.load('data/dejavu.wav')"
   ]
  },
  {
   "cell_type": "code",
   "execution_count": null,
   "metadata": {},
   "outputs": [],
   "source": [
    "ipd.Audio(x, rate=sr)"
   ]
  },
  {
   "cell_type": "markdown",
   "metadata": {},
   "source": [
    "<div id='magics' />\n",
    "## 3.- Magics\n",
    "\n",
    "Los _magics_ son comandos \"customizados\" que permiten interactuar directamente con nuestro SO y el sistema de archivos del computador. Existen dos tipos de *line magics*:\n",
    "\n",
    "* `%` (El cual solo afecta a la linea en custion).\n",
    "* `%%` (El cual afecta a toda la celda).\n",
    "\n",
    "Aqui tenemos algunos `magics` útiles:"
   ]
  },
  {
   "cell_type": "code",
   "execution_count": null,
   "metadata": {},
   "outputs": [],
   "source": [
    "# this will list all magic commands\n",
    "%lsmagic"
   ]
  },
  {
   "cell_type": "code",
   "execution_count": null,
   "metadata": {},
   "outputs": [],
   "source": [
    "# also work in ls, cd, mkdir, etc\n",
    "%pwd"
   ]
  },
  {
   "cell_type": "code",
   "execution_count": null,
   "metadata": {},
   "outputs": [],
   "source": [
    "%history"
   ]
  },
  {
   "cell_type": "code",
   "execution_count": null,
   "metadata": {},
   "outputs": [],
   "source": [
    "# this will execute and show the output of the program\n",
    "%run ./data/hola_mundo.py"
   ]
  },
  {
   "cell_type": "code",
   "execution_count": null,
   "metadata": {},
   "outputs": [],
   "source": [
    "def Evitame():\n",
    "    for i in range(100):\n",
    "        for j in range(100):\n",
    "            for k in range(100):\n",
    "                a = 1+1\n",
    "    return None\n",
    "\n",
    "%timeit -n 10 Evitame()"
   ]
  },
  {
   "cell_type": "code",
   "execution_count": null,
   "metadata": {},
   "outputs": [],
   "source": [
    "%time Evitame()"
   ]
  },
  {
   "cell_type": "code",
   "execution_count": null,
   "metadata": {},
   "outputs": [],
   "source": [
    "%%bash\n",
    "cd ..\n",
    "ls"
   ]
  },
  {
   "cell_type": "code",
   "execution_count": null,
   "metadata": {},
   "outputs": [],
   "source": [
    "%%writefile myfile.txt\n",
    "R: Holanda que talca como andamio que container que acelga!\n",
    "P: No sapa naipe hermanito."
   ]
  },
  {
   "cell_type": "code",
   "execution_count": null,
   "metadata": {},
   "outputs": [],
   "source": [
    "!cat myfile.txt\n",
    "!rm myfile.txt"
   ]
  },
  {
   "cell_type": "markdown",
   "metadata": {},
   "source": [
    "### Escribe tus propios _magics_ !\n",
    "\n",
    "Ahora veremos como crear un nuevo _cell magic_ que compile y ejecute codigo C++ en nuestro notebook: "
   ]
  },
  {
   "cell_type": "code",
   "execution_count": null,
   "metadata": {},
   "outputs": [],
   "source": [
    "from IPython.core.magic import register_cell_magic"
   ]
  },
  {
   "cell_type": "markdown",
   "metadata": {},
   "source": [
    "Para comenzar, crearemos una funcion que tome una linea y el contenido de una celda como sus argumentos, y la *decoraremos* con `@register_cell_magic`."
   ]
  },
  {
   "cell_type": "code",
   "execution_count": null,
   "metadata": {},
   "outputs": [],
   "source": [
    "@register_cell_magic\n",
    "def cpp(line,cell):\n",
    "    \"\"\"Compile, execute C++ code, and return the\n",
    "    standard output.\"\"\"\n",
    "    # We first retrieve the current IPython interpreter instance.\n",
    "    ip = get_ipython()\n",
    "    # We define the source and executable filenames.\n",
    "    source_filename = '_temp.cpp'\n",
    "    program_filename = '_temp'\n",
    "    # We write the code to the C++ file.\n",
    "    with open(source_filename, 'w') as f:\n",
    "        f.write(cell)\n",
    "    # We compile the C++ code into an executable.\n",
    "    compile = ip.getoutput(\"g++ {0:s} -o {1:s}\".format(\n",
    "              source_filename, program_filename))\n",
    "    # We execute the executable and return the output.\n",
    "    output = ip.getoutput('./{0:s}'.format(program_filename))\n",
    "    print(output[0])"
   ]
  },
  {
   "cell_type": "code",
   "execution_count": null,
   "metadata": {},
   "outputs": [],
   "source": [
    "%%cpp\n",
    "#include<iostream>\n",
    "int main() \n",
    "{\n",
    "    std::cout << \"Hello world!\";\n",
    "}"
   ]
  },
  {
   "cell_type": "markdown",
   "metadata": {},
   "source": [
    "Sin embargo esta _cell magic_ es valida solo dentro del _notebook_ donde se creó. Para usarla en otros _notebooks_ se puede crear una extensión de _Ipython_ (**IPython extension**). Para esto, copie la definición de la función `cpp()` (sin el decorador) en un modulo de Python, llamada `cpp_ext.py` para este ejemplo. Luego, agregue esto al final de su archivo:\n",
    "\n",
    "```python\n",
    "def load_ipython_extension(ipython):\n",
    "       \"\"\"This function is called when the extension is loaded.\n",
    "       It accepts an IPython InteractiveShell instance.\n",
    "       We can register the magic with the `register_magic_function`\n",
    "       method of the shell instance.\"\"\"\n",
    "       ipython.register_magic_function(cpp, 'cell')\n",
    "```"
   ]
  },
  {
   "cell_type": "markdown",
   "metadata": {},
   "source": [
    "Puedes cargar la extensión con %load_ext cpp_ext. Recuerda que tu archivo cpp_ext.py debe estar donde se encuentre tu _notebook_ (mismo directorio)."
   ]
  },
  {
   "cell_type": "code",
   "execution_count": null,
   "metadata": {},
   "outputs": [],
   "source": [
    "%load_ext cpp_ext"
   ]
  },
  {
   "cell_type": "code",
   "execution_count": null,
   "metadata": {},
   "outputs": [],
   "source": [
    "%%cpp\n",
    "#include<iostream>\n",
    "int main() \n",
    "{\n",
    "    std::cout << \"Hello world!\";\n",
    "}"
   ]
  },
  {
   "cell_type": "markdown",
   "metadata": {},
   "source": [
    "## Actividad 1"
   ]
  },
  {
   "cell_type": "markdown",
   "metadata": {},
   "source": [
    "Desarrolle una extensión de `IPython` (llamada `2to3_ext.py`) implementando un `cell magic`, que reciba en su celda un código en `Python2`, lo transforme a código compatible con `Python3`, y finalmente lo ejecute en una instancia del `IPython3`, imprimiendo en la salida. \n",
    "\n",
    "La entrega consiste en la extensión (`2to3_ext.py`) + un notebook de ejemplo de su extensión ejecutada con el código de a continuación:\n",
    "\n",
    "```python\n",
    "a = 3\n",
    "b = 4\n",
    "c = 5\n",
    "\n",
    "if a>(b+c) or b>(a+c) or c>(a+b):\n",
    "\tprint \"Ingrese un traingulo valido.\"\n",
    "elif a==b and b==c:\n",
    "\tprint \"Triangulo equilatero.\"\n",
    "elif a==b or b==c or a==c:\n",
    "\tprint \"Triangulo isoceles.\"\n",
    "else:\n",
    "\tprint \"Triangulo escaleno.\"\n",
    "```\n",
    "\n",
    "**Nota:** Consideraremos que las únicas diferencias entre `Python2` y `Python3` son los `print`."
   ]
  },
  {
   "cell_type": "markdown",
   "metadata": {},
   "source": [
    "<div id='numpy' />\n",
    "# 4.- NumPy"
   ]
  },
  {
   "cell_type": "markdown",
   "metadata": {},
   "source": [
    "## Operadores básicos en _NumPy_"
   ]
  },
  {
   "cell_type": "markdown",
   "metadata": {},
   "source": [
    "La razon de porque se debe usar _NumPy_ en vez de un objeto iterable en Python son:\n",
    "* _NumPy_ provee una estructura de arreglos (_ndarrays_) que guarda la data **de forma contigua**.\n",
    "* _NumPy_ tiene implemnetado **operaciones matemáticas muy veloces** sobre los _ndarrays_ que explota el formato de guardado de estos (forma contigua).\n",
    "* **Sintaxis corto para operaciones entre arrays**. Un lenguaje como C o Java requiere de un for para escribir operaciones tan simples como $C = A + B$."
   ]
  },
  {
   "cell_type": "markdown",
   "metadata": {},
   "source": [
    "### Creando nuestros primeros arreglos\n",
    "\n",
    "Hay muchas funciones en _NumPy_ para crear distintos tipos de arreglos. A continuación se muestra una lista de los comandos más usados:"
   ]
  },
  {
   "cell_type": "code",
   "execution_count": null,
   "metadata": {},
   "outputs": [],
   "source": [
    "# Arrays of zeros: np.zeros(shape)\n",
    "print(\"Matriz de ceros:\")\n",
    "print( np.zeros((3,3)) )\n",
    "\n",
    "# Arrays of ones: np.ones(shape)\n",
    "print(\"\\nMatriz de unos:\")\n",
    "print( np.ones((3,3)) )\n",
    "\n",
    "# Empty array: np.empty(shape)\n",
    "print(\"\\nArreglos vacios:\")\n",
    "print( np.empty((3,3)) )\n",
    "\n",
    "# Range of values: np.range(start, stop, step)\n",
    "print(\"\\nRange:\")\n",
    "print( np.arange(0., 10., 1.) )\n",
    "\n",
    "# Regular grid: np.linspace(start, end, n_values)\n",
    "print(\"\\nGrilla Regular:\")\n",
    "print( np.linspace(0., 1., 9) )\n",
    "\n",
    "# Random secuences: np.random\n",
    "print(\"\\nSecuencia Random:\")\n",
    "print( np.random.uniform(10, size=6) )\n",
    "\n",
    "# Array constructor: np.array( python_iterable )\n",
    "print(\"\\nConstrucción de un array en NumPy\")\n",
    "print( np.array([2, 3, 5, 10, -1]) )"
   ]
  },
  {
   "cell_type": "markdown",
   "metadata": {},
   "source": [
    "### Operaciones básicas\n",
    "\n",
    "Muchas de las operaciones en _NumPy_ son del tipo **element-wise**, es decir, realizar el computo $C = A + B$ se traduce en $C[i,j] = A[i,j] + B[i,j]$. A continuación se muestran algunas de las operaciones mas usuales (Para ver más funciones puede entrar aqui: [NumPy mathematical functions](https://docs.scipy.org/doc/numpy/reference/routines.math.html). )"
   ]
  },
  {
   "cell_type": "code",
   "execution_count": null,
   "metadata": {},
   "outputs": [],
   "source": [
    "# first we create two random arrays:\n",
    "A = np.random.random((5,5))\n",
    "B = np.random.random((5,5))\n",
    "\n",
    "# sum\n",
    "print(\"Suma:\")\n",
    "print( A+B )\n",
    "\n",
    "# subtraction\n",
    "print(\"\\nResta\")\n",
    "print( A-B )\n",
    "\n",
    "# product\n",
    "print(\"\\nProducto\")\n",
    "print( A*B )\n",
    "\n",
    "# matricial product\n",
    "print(\"\\nProducto Matricial \")\n",
    "print( np.dot(A,B) )\n",
    "\n",
    "# power\n",
    "print(\"\\nPotencia\")\n",
    "print( A**2 )\n",
    "\n",
    "# Some common mathematical functions\n",
    "print(\"\\n np.exp()\")\n",
    "print( np.exp(A) )\n",
    "print(\"\\n np.sin()\")\n",
    "print( np.sin(A) )\n",
    "print(\"\\n np.cos()\")\n",
    "print( np.cos(A))\n",
    "print(\"\\n np.tan()\")\n",
    "print( np.tan(A) )"
   ]
  },
  {
   "cell_type": "markdown",
   "metadata": {},
   "source": [
    "### Operaciones booleanas\n",
    "\n",
    "Las comparaciones en NumPy trabajan tambien de forma _element wise_. Algunos ejemplos son:"
   ]
  },
  {
   "cell_type": "code",
   "execution_count": null,
   "metadata": {},
   "outputs": [],
   "source": [
    "# Creating two 2d-arrays\n",
    "A = np.array( [[1, 2, 3], [2, 3, 5], [1, 9, 6]] )\n",
    "B = np.array( [[1, 2, 3], [3, 5, 5], [0, 8, 5]] )\n",
    "\n",
    "print(\"A > B:\")\n",
    "print( A > B )\n",
    "\n",
    "print(\"\\nA =< B:\")\n",
    "print( A <= B )\n",
    "\n",
    "print(\"\\n A==B:\")\n",
    "print( A==B )\n",
    "\n",
    "print(\"\\n A!=B:\")\n",
    "print( A!=B )\n",
    "\n",
    "# Creating two 2d boolean arrays\n",
    "C = A==B\n",
    "D = A>=B\n",
    "\n",
    "print(\"\\n A and B:\")\n",
    "print( C & D)\n",
    "print( np.logical_and(C,D) )\n",
    "\n",
    "print(\"\\n A or B:\")\n",
    "print( C | D)\n",
    "print( np.logical_or(C,D) )\n",
    "\n",
    "print(\"\\n not A:\")\n",
    "print( ~C )\n",
    "print( np.logical_not(C))"
   ]
  },
  {
   "cell_type": "markdown",
   "metadata": {},
   "source": [
    "<div id='internals' />\n",
    "## Dentro de NumPy\n",
    "\n",
    "### La estructura de los  `numpy.ndarray` \n",
    "\n",
    "_ndarray_ es un objeto de NumPy que nos permite crear un arreglo de $N$ dimensiones. Basicamente esta formado por:\n",
    "\n",
    "1. Un número de **dimensiones**.\n",
    "2. El porte de cada dimension (_shape_).\n",
    "3. El **tipo de dato** (_dtype_).\n",
    "4. El buffer de la data.\n",
    "<img src='data/ndarray.png' style=\"width: 500px;\">"
   ]
  },
  {
   "cell_type": "markdown",
   "metadata": {},
   "source": [
    "### Veamos un problema interesante ...\n",
    "Consideremos calcular la norma cuadradada de un vector ($\\displaystyle || \\mathbf{v} ||^2 = \\mathbf{v} \\cdot \\mathbf{v}$) con las siguientes 4 implementaciones:"
   ]
  },
  {
   "cell_type": "code",
   "execution_count": null,
   "metadata": {},
   "outputs": [],
   "source": [
    "#Python Lists implementation\n",
    "def norm_square_list(vector):\n",
    "    norm = 0\n",
    "    for v in vector:\n",
    "        norm += v*v\n",
    "    return norm\n",
    "\n",
    "#Naive NumPy implementation\n",
    "def norm_square_array(vector):\n",
    "    norm = 0\n",
    "    for v in vector:\n",
    "        norm += v*v\n",
    "    return norm\n",
    "\n",
    "#Vectorized NumPy implementation\n",
    "def norm_square_numpy(vector):\n",
    "    return np.sum(vector * vector)\n",
    "\n",
    "#Clever NumPy implementation\n",
    "def norm_square_dot(vector):\n",
    "    return np.dot(vector, vector)\n",
    "\n",
    "#Vector to use - dimension 10^6\n",
    "vector = range(1000000)\n",
    "npvector = np.array(vector)"
   ]
  },
  {
   "cell_type": "code",
   "execution_count": null,
   "metadata": {},
   "outputs": [],
   "source": [
    "#Timing the list implementation\n",
    "%timeit norm_square_list(vector)"
   ]
  },
  {
   "cell_type": "code",
   "execution_count": null,
   "metadata": {},
   "outputs": [],
   "source": [
    "#Timing the naive array implementation\n",
    "%timeit norm_square_array(npvector)"
   ]
  },
  {
   "cell_type": "code",
   "execution_count": null,
   "metadata": {},
   "outputs": [],
   "source": [
    "#Timing the NumPy-vectorized implementation\n",
    "%timeit norm_square_numpy(npvector)"
   ]
  },
  {
   "cell_type": "code",
   "execution_count": null,
   "metadata": {},
   "outputs": [],
   "source": [
    "#Timing the clever NumPy-vectorized implementation\n",
    "%timeit norm_square_dot(npvector)"
   ]
  },
  {
   "cell_type": "markdown",
   "metadata": {},
   "source": [
    "Como se puede ver, suceden cosas interesantes. Vamos por partes \"como dijo el descuartizador\": \n",
    "* La implementación inicial en NumPy (*norm_square_array*) la cual itera sobre la data es actualmente **peor** que simplemente usar una lista en python. Esto ocurre porque el array es guardado en una representación de bajo nivel, y **debe ser convertido** en un objeto compatible con Python antes de ser retornado al usuario, causando una sobrecarga extra cada vez que accedes a un indice del arreglo.\n",
    "\n",
    "* `norm_square_numpy` es mas lenta que la implementación _cleaver_ por dos razones:\n",
    "    1. Hay un delta de tiempo que se gasta en asignar memoria para guardar el resultado temporal (vector x vector).\n",
    "    2. Lo anterior crea dos loops implicitos, uno para la multiplicación y otro para la suma.\n",
    "* La implementación _cleaver_ usa la función de NumPy *np.dot()*, la cual no necesita guardar los resultados intermedios, e itera una sola vez (a la velocidad del lenguaje C)."
   ]
  },
  {
   "cell_type": "markdown",
   "metadata": {},
   "source": [
    "<div id='efficient' />\n",
    "## Programando eficientemente con NumPy"
   ]
  },
  {
   "cell_type": "markdown",
   "metadata": {},
   "source": [
    "### Operaciones de copiado _In-place_ e implicitas"
   ]
  },
  {
   "cell_type": "markdown",
   "metadata": {},
   "source": [
    "Siempre que puedas, escoge las operaciones **in-place** sobre las **copias implicitas**. Esto te ayudara a ahorrar memoria (lo cual es menos trabajo para el pobre recolector de basura =)! ) y ejecutara de forma mas rápida tu código."
   ]
  },
  {
   "cell_type": "code",
   "execution_count": null,
   "metadata": {},
   "outputs": [],
   "source": [
    "def id(x):\n",
    "    \"\"\"\n",
    "    This function returns the memory\n",
    "    block address of an array.\n",
    "    \"\"\"\n",
    "    return x.__array_interface__['data'][0]"
   ]
  },
  {
   "cell_type": "markdown",
   "metadata": {},
   "source": [
    "La computación de arreglos puede involucrar operaciones **in-place** (primer ejemplo: el arreglo se modifica) o las **copias implicitas** (segundo ejemplo: un nuevo arreglo es creado)."
   ]
  },
  {
   "cell_type": "code",
   "execution_count": null,
   "metadata": {},
   "outputs": [],
   "source": [
    "a = np.zeros(10); aid = id(a)"
   ]
  },
  {
   "cell_type": "code",
   "execution_count": null,
   "metadata": {},
   "outputs": [],
   "source": [
    "# in-place operation\n",
    "a *= 2; id(a) == aid"
   ]
  },
  {
   "cell_type": "code",
   "execution_count": null,
   "metadata": {},
   "outputs": [],
   "source": [
    "# implicit-copy operation\n",
    "a = a * 2; id(a) == aid"
   ]
  },
  {
   "cell_type": "code",
   "execution_count": null,
   "metadata": {},
   "outputs": [],
   "source": [
    "%%timeit \n",
    "a = np.ones(100000000)\n",
    "a *= 2"
   ]
  },
  {
   "cell_type": "code",
   "execution_count": null,
   "metadata": {},
   "outputs": [],
   "source": [
    "%%timeit\n",
    "a = np.ones(100000000)\n",
    "b = a * 2"
   ]
  },
  {
   "cell_type": "markdown",
   "metadata": {},
   "source": [
    "## Broadcasting"
   ]
  },
  {
   "cell_type": "markdown",
   "metadata": {},
   "source": [
    "No es necesario realizar un *reshape* sobre los arreglos para operar sobre ellos. *Broadcasting* es una característica de los arreglos de NumPy. En la imagen que se muestra acontinuación la memoria extra indicada por los cuadros con puntos nunca se asigna, pero puede ser conveniente pensar en las operaciones como si fuera así.\n",
    "<img src='data/broadcasting.png' style=\"width: 600px;\">\n",
    "\n",
    "__Como funciona:__ Los dos arreglos que estan involucrados en esta operación deben tener en común al menos una dimensión. El arreglo con menor dimensión se extenderá de forma **lógica** para hacer el *match* con la dimensión del otro arreglo."
   ]
  },
  {
   "cell_type": "code",
   "execution_count": null,
   "metadata": {},
   "outputs": [],
   "source": [
    "# array([0,1,2]) + 5\n",
    "np.arange(3) + 5"
   ]
  },
  {
   "cell_type": "code",
   "execution_count": null,
   "metadata": {},
   "outputs": [],
   "source": [
    "# array([[1, 1 ,1], [1, 1, 1], [1, 1, 1]]) + array([0, 1, 2])\n",
    "np.ones((3,3)) + np.arange(3)"
   ]
  },
  {
   "cell_type": "code",
   "execution_count": null,
   "metadata": {},
   "outputs": [],
   "source": [
    "# array([[0], [1], [2]]) + array([0, 1 ,2])\n",
    "np.arange(3).reshape((3,1)) + np.arange(3)"
   ]
  },
  {
   "cell_type": "markdown",
   "metadata": {},
   "source": [
    "## Máscaras booleanas"
   ]
  },
  {
   "cell_type": "markdown",
   "metadata": {},
   "source": [
    "Una técnica para acceder a un arreglo sin loops son las máscaras booleanas. Supongamos que queremos obtener todos los elementos de un arreglo menores que 0.5: "
   ]
  },
  {
   "cell_type": "code",
   "execution_count": null,
   "metadata": {},
   "outputs": [],
   "source": [
    "def naive_indexing(vect):\n",
    "    ret = list()\n",
    "    for val in vect:\n",
    "        if val < 0.5: ret.append(val)\n",
    "    return np.array(ret)\n",
    "\n",
    "#data to occupy and mask of booleans\n",
    "vect = np.random.random_sample(1000000)\n",
    "mask = vect < 0.5\n",
    "mask"
   ]
  },
  {
   "cell_type": "code",
   "execution_count": null,
   "metadata": {},
   "outputs": [],
   "source": [
    "#naive indexing\n",
    "%timeit naive_indexing(vect)"
   ]
  },
  {
   "cell_type": "code",
   "execution_count": null,
   "metadata": {},
   "outputs": [],
   "source": [
    "#mask indexing\n",
    "%timeit vect[mask]"
   ]
  },
  {
   "cell_type": "code",
   "execution_count": null,
   "metadata": {},
   "outputs": [],
   "source": [
    "naive_indexing(vect)"
   ]
  },
  {
   "cell_type": "code",
   "execution_count": null,
   "metadata": {},
   "outputs": [],
   "source": [
    "vect[mask]"
   ]
  },
  {
   "cell_type": "markdown",
   "metadata": {},
   "source": [
    "## Actividad #2"
   ]
  },
  {
   "cell_type": "code",
   "execution_count": null,
   "metadata": {},
   "outputs": [],
   "source": [
    "def image_plot(data, title='FITS image'):\n",
    "    plt.figure(figsize=(20,20))\n",
    "    im = plt.imshow(data, cmap=plt.cm.afmhot, interpolation=None)\n",
    "    plt.title(title)\n",
    "    #plt.axis('off')\n",
    "    divider = make_axes_locatable(plt.gca())\n",
    "    cax = divider.append_axes(\"right\", size=\"5%\", pad=0.05)\n",
    "    plt.colorbar(im, cax=cax)\n",
    "    plt.show()"
   ]
  },
  {
   "cell_type": "code",
   "execution_count": null,
   "metadata": {},
   "outputs": [],
   "source": [
    "def comparation_plot(img1, img2, etiqueta_1, etiqueta_2):\n",
    "    fig = plt.figure(figsize=(20,20))\n",
    "    a = fig.add_subplot(1,2,1)\n",
    "    plt.imshow(img1, cmap='gray', interpolation=None)\n",
    "    a.set_title(etiqueta_1)\n",
    "    \n",
    "    b = fig.add_subplot(1,2,2)\n",
    "    plt.imshow(img2, cmap='gray', interpolation=None)\n",
    "    b.set_title(etiqueta_2)\n",
    "\n",
    "    plt.show()"
   ]
  },
  {
   "cell_type": "code",
   "execution_count": null,
   "metadata": {},
   "outputs": [],
   "source": [
    "# first we load the data:\n",
    "data = np.load(\"data/red_fox.npy\")"
   ]
  },
  {
   "cell_type": "code",
   "execution_count": null,
   "metadata": {},
   "outputs": [],
   "source": [
    "image_plot(data)"
   ]
  },
  {
   "cell_type": "markdown",
   "metadata": {},
   "source": [
    "Usted deberá aplicar un filtro a la presente imagen. Para esto, debe separar su imagen en los 3 canales respectivos (Red, Green, Blue - RGB), trabajar con cada canal por separado y luego juntarlos. Los pasos que debe seguir por cada canal son los siguientes:"
   ]
  },
  {
   "cell_type": "markdown",
   "metadata": {},
   "source": [
    "### Paso 1) \n",
    "\n",
    "Calcular el `RMS` de la imagen entregada. \n",
    "\n",
    "$$RMS = \\sqrt{\\frac{1}{m\\ n} \\sum_{i=1}^m \\sum_{j=1}^n \\texttt{data[i,j]}^2}$$\n",
    "\n",
    "__Nota:__ Computarlo de forma vectorizada."
   ]
  },
  {
   "cell_type": "markdown",
   "metadata": {},
   "source": [
    "### Paso 2) \n",
    "\n",
    "Genere otro arreglo donde los pixeles con intensidades por debajo del `RMS` son considerados como _no usables_ (con valor `=0`).  Mostrar tal imagen resultante."
   ]
  },
  {
   "cell_type": "markdown",
   "metadata": {},
   "source": [
    "### Paso 3)\n",
    "\n",
    "Crear la función\n",
    "```python\n",
    "def apply_filter(data, mask, kernel_filter):\n",
    "    ...\n",
    "    return None\n",
    "```\n",
    "Que reciba el arreglo de datos completo `data`, el arreglo booleano con los __pixeles usables__ `mask` (sobre el RMS), y kernel de filtro de `3x3`. La función debe convolucionar `filter` sobre la imagen `data`, sólo en los pixeles usables. La función debe retornar la data modificada.\n",
    "\n",
    "Finalmente mostrar el resultado de convolucionar tal filtro en `data` (mostrar imágen).\n",
    "\n",
    "__Nota:__ Debe usar siempre que pueda _instrucciones vectorizadas_.\n",
    "\n",
    "__Image convolution:__ https://en.wikipedia.org/wiki/Kernel_(image_processing)#Convolution"
   ]
  },
  {
   "cell_type": "code",
   "execution_count": null,
   "metadata": {},
   "outputs": [],
   "source": [
    "# Gaussian blur filter 3x3: Ocupar este filtro!\n",
    "kernel_filter = 1./16. * np.array([[1,2,1], [2,4,2], [1,2,1]])\n",
    "print(kernel_filter)"
   ]
  },
  {
   "cell_type": "code",
   "execution_count": null,
   "metadata": {},
   "outputs": [],
   "source": []
  }
 ],
 "metadata": {
  "kernelspec": {
   "display_name": "Python 3",
   "language": "python",
   "name": "python3"
  },
  "language_info": {
   "codemirror_mode": {
    "name": "ipython",
    "version": 3
   },
   "file_extension": ".py",
   "mimetype": "text/x-python",
   "name": "python",
   "nbconvert_exporter": "python",
   "pygments_lexer": "ipython3",
   "version": "3.5.4"
  }
 },
 "nbformat": 4,
 "nbformat_minor": 2
}
