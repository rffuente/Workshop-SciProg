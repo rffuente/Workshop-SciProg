{
 "cells": [
  {
   "cell_type": "markdown",
   "metadata": {},
   "source": [
    "<img src=\"escudo_utfsm.gif\" style=\"float:right;height:100px\">\n",
    "<img src=\"IsotipoDIisocolor.png\" style=\"float:left;height:100px\">\n",
    "<center>\n",
    "    <h1> Programación cientifica en Python</h1>\n",
    "    <h1> Tópico 1: Introducción y numpy</h1>\n",
    "    <h3> Solución actividad 1</h3>\n",
    "</center>\n",
    "\n",
    "_Notebook created by Roberto Fuentes - `roberto.fuentes@alumnos.usm.cl`- DI UTFSM - April 2018._"
   ]
  },
  {
   "cell_type": "markdown",
   "metadata": {},
   "source": [
    "## Actividad #1\n",
    "\n",
    "Desarrolle una extensión de `IPython` (llamada `2to3_ext.py`) implementando un `cell magic`, que reciba en su celda un código en `Python2`, lo transforme a código compatible con `Python3`, y finalmente lo ejecute en una instancia del `IPython3`, imprimiendo la salida. \n",
    "\n",
    "La entrega consiste en la extensión (`2to3_ext.py`) + un notebook de ejemplo de su extensión ejecutada con el código de a continuación:\n",
    "\n",
    "```python\n",
    "a = 3\n",
    "b = 4\n",
    "c = 5\n",
    "\n",
    "if a>(b+c) or b>(a+c) or c>(a+b):\n",
    "\tprint \"Ingrese un traingulo valido.\"\n",
    "elif a==b and b==c:\n",
    "\tprint \"Triangulo equilatero.\"\n",
    "elif a==b or b==c or a==c:\n",
    "\tprint \"Triangulo isoceles.\"\n",
    "else:\n",
    "\tprint \"Triangulo escaleno.\"\n",
    "```\n",
    "\n",
    "**Nota:** Consideraremos que las únicas diferencias entre `Python2` y `Python3` son los `print`."
   ]
  },
  {
   "cell_type": "markdown",
   "metadata": {},
   "source": [
    "## Desarrollo"
   ]
  },
  {
   "cell_type": "markdown",
   "metadata": {},
   "source": [
    "Cargamos el _magic_ pedido con el nombre **2to3_ext**. Posteriormente se carga lo que se encuentra en el archivo _2to3_ext.py_. Como supuesto se dan valores a \"a\",\"b\" y \"c\", ya que la instrucción _raw_input_ lanza error al ejeructarlo en el notebook."
   ]
  },
  {
   "cell_type": "code",
   "execution_count": 1,
   "metadata": {
    "scrolled": true
   },
   "outputs": [
    {
     "ename": "TabError",
     "evalue": "inconsistent use of tabs and spaces in indentation (2to3_ext.py, line 15)",
     "output_type": "error",
     "traceback": [
      "\u001b[0;36m  File \u001b[0;32m\"/Users/Roberto/Usm/USM-2018/Taller_SciProg/01_Intro_numpy/Solutions/2to3_ext.py\"\u001b[0;36m, line \u001b[0;32m15\u001b[0m\n\u001b[0;31m    if('print' in lineas[i]):\u001b[0m\n\u001b[0m                             ^\u001b[0m\n\u001b[0;31mTabError\u001b[0m\u001b[0;31m:\u001b[0m inconsistent use of tabs and spaces in indentation\n"
     ]
    }
   ],
   "source": [
    "%load_ext 2to3_ext"
   ]
  },
  {
   "cell_type": "markdown",
   "metadata": {},
   "source": [
    "Posteriormente se ejecuta el código de python pedido:"
   ]
  },
  {
   "cell_type": "code",
   "execution_count": null,
   "metadata": {
    "scrolled": false
   },
   "outputs": [],
   "source": [
    "%%python23\n",
    "a = 3\n",
    "b = 4\n",
    "c = 5\n",
    "\n",
    "if a>(b+c) or b>(a+c) or c>(a+b):\n",
    "    print \"Ingrese un traingulo valido.\"\n",
    "elif a==b and b==c:\n",
    "    print \"Triangulo equilatero.\"\n",
    "elif a==b or b==c or a==c:\n",
    "    print \"Triangulo isoceles.\"\n",
    "else:\n",
    "    print \"Triangulo escaleno.\""
   ]
  },
  {
   "cell_type": "code",
   "execution_count": null,
   "metadata": {},
   "outputs": [],
   "source": []
  }
 ],
 "metadata": {
  "kernelspec": {
   "display_name": "Python 3",
   "language": "python",
   "name": "python3"
  },
  "language_info": {
   "codemirror_mode": {
    "name": "ipython",
    "version": 3
   },
   "file_extension": ".py",
   "mimetype": "text/x-python",
   "name": "python",
   "nbconvert_exporter": "python",
   "pygments_lexer": "ipython3",
   "version": "3.5.4"
  }
 },
 "nbformat": 4,
 "nbformat_minor": 2
}
