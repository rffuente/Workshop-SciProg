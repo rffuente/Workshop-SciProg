{
 "cells": [
  {
   "cell_type": "markdown",
   "metadata": {},
   "source": [
    "<img src=\"escudo_utfsm.gif\" style=\"float:right;height:100px\">\n",
    "<img src=\"IsotipoDIisocolor.png\" style=\"float:left;height:100px\">\n",
    "<center>\n",
    "    <h1> Programación cientifica en Python</h1>\n",
    "    <h1> Tópico 2: Matplotlib</h1>\n",
    "    <h3> _Mayo 2018_</h3>\n",
    "</center>\n",
    "\n",
    "_Notebook created by Roberto Fuentes - `roberto.fuentes@alumnos.usm.cl`- DI UTFSM ._"
   ]
  },
  {
   "cell_type": "code",
   "execution_count": null,
   "metadata": {},
   "outputs": [],
   "source": [
    "import numpy as np\n",
    "import random\n",
    "import matplotlib.pyplot as plt\n",
    "import matplotlib.image as mpimg\n",
    "from matplotlib import cm\n",
    "import matplotlib.animation as animation\n",
    "import scipy as sp\n",
    "from IPython.display import HTML\n",
    "import sys\n",
    "%matplotlib inline"
   ]
  },
  {
   "cell_type": "code",
   "execution_count": null,
   "metadata": {},
   "outputs": [],
   "source": [
    "theta = np.linspace(0, 2*np.pi, 300)\n",
    "k = 6\n",
    "x_p = lambda k, theta: np.cos(k*theta)*np.cos(theta)\n",
    "y_p = lambda k, theta: np.cos(k*theta)*np.sin(theta)\n",
    "x = x_p(k, theta)\n",
    "y = y_p(k, theta)\n",
    "\n",
    "fig = plt.figure(figsize=(10,10))\n",
    "\n",
    "def animate(i): \n",
    "    plt.clf()\n",
    "    plt.plot(x[:i], y[:i], lw=2, color='yellowgreen')\n",
    "    plt.plot([0,0], [0,-3], lw=2, color='brown',zorder=-1)\n",
    "    plt.title(\"Rose with 12 petals\", fontsize = '20')\n",
    "    plt.xlabel(r\"$x$\", fontsize = '20')\n",
    "    plt.ylabel(r\"$y(x)$\", fontsize = '20')\n",
    "    plt.grid()\n",
    "    plt.xlim(-2,2)\n",
    "    plt.ylim(-2,1.7)\n",
    " \n",
    "ani = animation.FuncAnimation(fig, animate, frames=np.arange(300), interval=50)\n",
    "HTML(ani.to_html5_xvideo())"
   ]
  },
  {
   "cell_type": "markdown",
   "metadata": {},
   "source": [
    "Es importante destacar que se nececita tener instalado _ffmpeg_ (en macOS es con el comando \"brew install ffmpeg\"), para poder correr los videos de ipython, y descargar ipywidgets (puede hacerse con el comando \"pip install ipywidgets\" si usted usa _pip_, o con el comando \"conda install -c conda-forge ipywidgets\" si usted usa _conda_)\n",
    "\n",
    "* Instalación de _brew_ y _ffmpeg_ (despues de la instalación se recomienda reiniciar)\n",
    "\n",
    "     * http://www.idiotinside.com/2016/05/01/ffmpeg-mac-os-x/"
   ]
  },
  {
   "cell_type": "markdown",
   "metadata": {},
   "source": [
    "## Tabla de contenidos\n",
    "* [1.- Matplotlib](#plt)\n",
    "* [2.- Interact](#interact)"
   ]
  },
  {
   "cell_type": "markdown",
   "metadata": {},
   "source": [
    "<div id='plt' />\n",
    "## 1.- Matplotlib\n",
    "\n",
    "En esta sección se verán los gráficos mas comunes para _data visualization_\n",
    "__La filosofia de Matplotplib:__\n",
    "1. Configura un objeto a mostrar mediante la API `matplotlib.pyplot`\n",
    "2. Mostrar tu objeto a través de la función `matplotlib.pyplot.show()`\n",
    "3. Luego de mostrar tu objeto mediante la función `show()`, resetear el estado de tu objeto.\n",
    "\n",
    "### Escogiendo el *backend* para mostrar nuestros resultados\n",
    "\n",
    "Existen diferentes formas de mostrar nuestros gráficos en Jupyter Notebook, cambiando el *backend* que conlleva estos plots. Sin embargo, cambiar de backend dentro de la misma sesión no funciona correctamente, por lo que se recomienda *resetear* el kernel cada vez que cambies el *backend*"
   ]
  },
  {
   "cell_type": "markdown",
   "metadata": {},
   "source": [
    "__Modo *Inline*:__ Gráficos mostrados en este modo seran convertidos en imagenes PNG que serán almacenadas en el *notebook*. Esto es bastante conveniente cuando se comparten _notebooks_, ya que los plots pueden ser visualidaos por otros usuarios."
   ]
  },
  {
   "cell_type": "code",
   "execution_count": null,
   "metadata": {},
   "outputs": [],
   "source": [
    "%matplotlib inline\n",
    "plt.imshow(np.random.rand(10,10), interpolation=None)\n",
    "plt.show()"
   ]
  },
  {
   "cell_type": "markdown",
   "metadata": {},
   "source": [
    "__Modo Notebook__: Este modo agrega los beneficios de poder interactuar la visualición, pero integrada dentro del *notebook* de la misma forma que el modo *inline*."
   ]
  },
  {
   "cell_type": "code",
   "execution_count": null,
   "metadata": {},
   "outputs": [],
   "source": [
    "#%matplotlib notebook\n",
    "#plt.imshow(np.random.rand(10,10), interpolation=None)\n",
    "#plt.show()"
   ]
  },
  {
   "cell_type": "markdown",
   "metadata": {},
   "source": [
    "Para una lista de *backends* disponibles en matplotlib puede usar el siguiente comando:"
   ]
  },
  {
   "cell_type": "code",
   "execution_count": null,
   "metadata": {},
   "outputs": [],
   "source": [
    "%matplotlib --list"
   ]
  },
  {
   "cell_type": "markdown",
   "metadata": {},
   "source": [
    "Para mas información sobre el *line magic* `%matplotlib` :"
   ]
  },
  {
   "cell_type": "code",
   "execution_count": null,
   "metadata": {},
   "outputs": [],
   "source": [
    "?%matplotlib"
   ]
  },
  {
   "cell_type": "markdown",
   "metadata": {},
   "source": [
    "## *Plots* basicos"
   ]
  },
  {
   "cell_type": "markdown",
   "metadata": {},
   "source": [
    "__Una señal *random* normal__\n",
    "\n",
    "El siguiente ejemplo es un gráfico de una señal discreta y unidimensional. Se muestran los valores de la señal en el eje $y$, y en el eje $x$ se muestra una grilla regular de valores enteros."
   ]
  },
  {
   "cell_type": "code",
   "execution_count": null,
   "metadata": {},
   "outputs": [],
   "source": [
    "y = np.random.randn(100)\n",
    "plt.plot(y)\n",
    "plt.show()"
   ]
  },
  {
   "cell_type": "markdown",
   "metadata": {},
   "source": [
    "__Gráficando funciones__\n",
    "\n",
    "Definimos y evaluamos la función $y(x) = e^{- x^2} \\sin{(3x)}$ usando las operaciones de NumPy, y mostramos el resultado de estas con `plot()`. Notar que aqui definimos el eje $x$ explicitamente."
   ]
  },
  {
   "cell_type": "code",
   "execution_count": null,
   "metadata": {},
   "outputs": [],
   "source": [
    "x = np.linspace(-10,10,100)\n",
    "y = np.exp(-.1 * x**2) * np.sin(3*x)\n",
    "\n",
    "plt.plot(x, y)\n",
    "plt.show()"
   ]
  },
  {
   "cell_type": "markdown",
   "metadata": {},
   "source": [
    "__Mejorando la visualización__\n",
    "\n",
    "Con la API `matplotlib.pyplot` podemos definir y customizar los objetos a mostrar. Aqui tenemos un ejemplo de las lindas y utiles cosas que podemos hacer:"
   ]
  },
  {
   "cell_type": "code",
   "execution_count": null,
   "metadata": {},
   "outputs": [],
   "source": [
    "plt.figure(figsize=(10,5))\n",
    "plt.plot(x, y, 'o--', lw=2, color='blue', mfc='red', ms=5)\n",
    "plt.title(\"Example plot\", fontsize = '20')\n",
    "plt.xlabel(r\"$x$\", fontsize = '20')\n",
    "plt.ylabel(r\"$y(x)$\", fontsize = '20')\n",
    "plt.grid()\n",
    "plt.show()"
   ]
  },
  {
   "cell_type": "markdown",
   "metadata": {},
   "source": [
    "__Gráficos logaritmicos__\n",
    "\n",
    "En el caso donde nuestras variables a visualizar tengan diferentes ordenes de magnitud, entonces es mejor visualizarlas con una escala logarítmica. Para esto, usamos un _plot logarítmico_, usando las funciones `plt.semilogy()` o `plt.loglog()`."
   ]
  },
  {
   "cell_type": "code",
   "execution_count": null,
   "metadata": {},
   "outputs": [],
   "source": [
    "x = np.linspace(0., 20., 100)\n",
    "y = np.exp(0.1 * (x + 0.1*np.sin(x))**2)"
   ]
  },
  {
   "cell_type": "code",
   "execution_count": null,
   "metadata": {},
   "outputs": [],
   "source": [
    "plt.figure(figsize=(10,5))\n",
    "plt.plot(x, y, 'o--', lw=2, color='magenta', ms=4)\n",
    "plt.title(\"Example plot\", fontsize = 20)\n",
    "plt.xlabel(r\"$x$\", fontsize = 20)\n",
    "plt.ylabel(r\"$y(x)$\", fontsize = 20)\n",
    "plt.grid()\n",
    "plt.show()"
   ]
  },
  {
   "cell_type": "code",
   "execution_count": null,
   "metadata": {},
   "outputs": [],
   "source": [
    "plt.figure(figsize=(10,5))\n",
    "plt.semilogy(x, y, 'o--', lw=2, color='magenta', ms=4)\n",
    "plt.title(\"Example plot\", fontsize = 20)\n",
    "plt.xlabel(r\"$x$\", fontsize = 20)\n",
    "plt.ylabel(r\"$y(x)$\", fontsize = 20)\n",
    "plt.grid()\n",
    "plt.show()"
   ]
  },
  {
   "cell_type": "markdown",
   "metadata": {},
   "source": [
    "### Multiples *Plots*\n",
    "\n",
    "También es posible gráficar multiples funciones dentro de la misma figura:"
   ]
  },
  {
   "cell_type": "code",
   "execution_count": null,
   "metadata": {},
   "outputs": [],
   "source": [
    "plt.figure(figsize=(10,5))\n",
    "x = np.linspace(-10, 10, 100)\n",
    "plt.plot(x, np.cos(x), '--o', color='r', label=r'sin($x$)')\n",
    "plt.plot(x, np.sin(x), '--o', color='g', label=r'cos($x$)')\n",
    "plt.ylim(-2,2)\n",
    "plt.xlim(-12,12)\n",
    "plt.xlabel(r\"$x$ axis\", fontsize = 20)\n",
    "plt.ylabel(r\"$y$ axis\", fontsize = 20)\n",
    "plt.grid()\n",
    "plt.title(\"Two plot in the same image\", fontsize = 20)\n",
    "plt.legend(loc=1, fontsize = 15)\n",
    "plt.show()"
   ]
  },
  {
   "cell_type": "markdown",
   "metadata": {},
   "source": [
    "__Dos *subplots*__\n",
    "\n",
    "Podemos también crear dos figuras separadas y *plotear* dos funciones separadas en cada una de ellas, usando la función `pyplot.subplot()`. "
   ]
  },
  {
   "cell_type": "code",
   "execution_count": null,
   "metadata": {},
   "outputs": [],
   "source": [
    "plt.figure(figsize=(17, 5))\n",
    "\n",
    "plt.subplot(1, 2, 1)\n",
    "x = np.linspace(-10,10,100)\n",
    "plt.plot(x, np.cos(x), '--o', color='r', label=r'sin($x$)')\n",
    "plt.plot(x, np.sin(x), '--o', color='g', label=r'cos($x$)')\n",
    "plt.ylim(-2,2)\n",
    "plt.xlim(-12,12)\n",
    "plt.xlabel(\"x axis\", fontsize = 20)\n",
    "plt.ylabel(\"y axis\", fontsize = 20)\n",
    "plt.grid()\n",
    "plt.title(\"Two plot in the same image\", fontsize = 20)\n",
    "plt.legend(loc=1, fontsize = 15)\n",
    "\n",
    "plt.subplot(1, 2, 2)\n",
    "x = np.linspace(-10,10,100)\n",
    "y = np.exp(-.1 * x**2) * np.sin(3*x)\n",
    "plt.plot(x, y, 'o--', lw=2, color='blue', mfc='red', ms=4)\n",
    "plt.title(\"Example plot\", fontsize = 20)\n",
    "plt.xlabel(r\"$x$\", fontsize = 20)\n",
    "plt.ylabel(r\"$y(x)$\", fontsize = 20)\n",
    "plt.grid()\n",
    "\n",
    "plt.show()"
   ]
  },
  {
   "cell_type": "markdown",
   "metadata": {},
   "source": [
    "__Cuatro subplots__\n",
    "\n",
    "`pyplot.subplot()` Permite crear una grilla de *plots*. Esta función posee tres agumentos: `pyplot.subplot(m,n,i)`, donde:\n",
    "\n",
    "- $m$ y $n$ son el tamaño de la grilla (grilla $m \\times n$)\n",
    "- $i$ es el índice de cada *subplot*."
   ]
  },
  {
   "cell_type": "code",
   "execution_count": null,
   "metadata": {},
   "outputs": [],
   "source": [
    "plt.figure(figsize=(15, 15))\n",
    "\n",
    "plt.subplot(2, 2, 1)\n",
    "x = np.linspace(-10,10,100)\n",
    "plt.plot(x, np.cos(x), '--o', color='r', label=r'sin($x$)')\n",
    "plt.plot(x, np.sin(x), '--o', color='g', label=r'cos($x$)')\n",
    "plt.ylim(-2,2)\n",
    "plt.xlim(-12,12)\n",
    "plt.xlabel(r\"$x$ axis\", fontsize = 20)\n",
    "plt.ylabel(r\"$y$ axis\", fontsize = 20)\n",
    "plt.grid()\n",
    "plt.title(\"Two plot in the same image\", fontsize = 20)\n",
    "plt.legend(loc=1, fontsize = 15)\n",
    "\n",
    "plt.subplot(2, 2, 2)\n",
    "x = np.linspace(-10,10,100)\n",
    "y = np.exp(-.1 * x**2) * np.sin(3*x)\n",
    "plt.plot(x, y, 'o--', lw=2, color='green', ms=4)\n",
    "plt.title(\"Example plot\", fontsize = 20)\n",
    "plt.xlabel(r\"$x$\", fontsize = 20)\n",
    "plt.ylabel(r\"$y(x)$\", fontsize = 20)\n",
    "plt.grid()\n",
    "\n",
    "plt.subplot(2, 2, 3)\n",
    "x = np.linspace(0,10.,100)\n",
    "y = np.exp(.1 * x**2) * np.sin(3*x)\n",
    "plt.plot(x, y, 'o--', lw=2, color='red', ms=4)\n",
    "plt.title(\"Example plot\", fontsize = 20)\n",
    "plt.xlabel(r\"$x$\", fontsize = 20)\n",
    "plt.ylabel(r\"$y(x)$\", fontsize = 20)\n",
    "plt.grid()\n",
    "\n",
    "plt.subplot(2, 2, 4)\n",
    "x = np.linspace(0.,10,100)\n",
    "y = np.exp(.1 * x**2) * np.tan(30*x)\n",
    "plt.plot(x, y, 'o--', lw=2, color='blue', ms=4)\n",
    "plt.title(\"Example plot\", fontsize = 20)\n",
    "plt.xlabel(r\"$x$\", fontsize = 20)\n",
    "plt.ylabel(r\"$y(x)$\", fontsize = 20)\n",
    "plt.grid()\n",
    "\n",
    "plt.show()"
   ]
  },
  {
   "cell_type": "markdown",
   "metadata": {},
   "source": [
    "### *Scatter Plot* (gráfico de puntos)\n",
    "\n",
    "Otro tipo de gráficos comunes son los gráficos de puntos, los cuales solo muestran puntos en dos dimensiones. Ofrecen una manera de simple de relacionar variables en un _dataset_."
   ]
  },
  {
   "cell_type": "code",
   "execution_count": null,
   "metadata": {},
   "outputs": [],
   "source": [
    "plt.figure(figsize=(10, 10))\n",
    "x = np.random.randn(100)\n",
    "y = x + np.random.randn(100)\n",
    "\n",
    "plt.scatter(x, y, marker='o', s=25)\n",
    "plt.grid()\n",
    "plt.xlabel(r'$x$ coordinate', fontsize = 20)\n",
    "plt.ylabel(r'$y$ coordinate', fontsize = 20)\n",
    "plt.title('Scatter plot', fontsize = 20)\n",
    "plt.xlim(-4,4)\n",
    "plt.ylim(-4,4)\n",
    "plt.show()"
   ]
  },
  {
   "cell_type": "markdown",
   "metadata": {},
   "source": [
    "### Histogram Plot\n",
    "\n",
    "Si tenemos una variable $X$ (sea aleatoria o no), la cual queremos saber su distribución de sus valores, un gráfico de histogramas es bastante útil para tareas como detectar *outliers*, distribuciones empiricas, tendencias, etc. En el siguiente ejemplo se muestra una gráfica de valores con una distribución normal $\\mathcal{N}(0,1)$: "
   ]
  },
  {
   "cell_type": "code",
   "execution_count": null,
   "metadata": {},
   "outputs": [],
   "source": [
    "n_samples = 25000\n",
    "x = np.random.randn(n_samples)\n",
    "\n",
    "plt.figure(figsize=(8,8))\n",
    "plt.hist(x, bins=50, facecolor='seagreen', edgecolor='black', lw=2)\n",
    "plt.title(\"Empirical Standard Distribution\")\n",
    "plt.xlabel(\"x random variable\")\n",
    "plt.ylabel(\"frequency\")\n",
    "plt.show()"
   ]
  },
  {
   "cell_type": "markdown",
   "metadata": {},
   "source": [
    "### Gráficando imágenes\n",
    "\n",
    "Por lo general es bastante util gráficar y visualizar imagenes en 2D. Veamos como podemos hacer esto:\n",
    "\n",
    "En general la imegn puede verse en un gráfico como:\n",
    "\n",
    "1. Un *ndarray* $(m \\times n \\times 3)$ con valores `uint8` entre 0 a 255, representando los valores RGB (*Red, Green* y *Blue*).\n",
    "2. Un *ndarray* $(m \\times n \\times 3)$ con valores `float32` entre 0 a 1, indicando la proporcion de los valores en RGB.\n",
    "3. Un *ndarray* $(m \\times n)$ con valores `float32` entre 0 a 1, indicando la intensidad en un *colormap* dado (generalmente *greyscale*)."
   ]
  },
  {
   "cell_type": "code",
   "execution_count": null,
   "metadata": {},
   "outputs": [],
   "source": [
    "img = mpimg.imread('data/bunny.jpg')\n",
    "print(img.shape)\n",
    "print(img)"
   ]
  },
  {
   "cell_type": "code",
   "execution_count": null,
   "metadata": {},
   "outputs": [],
   "source": [
    "plt.figure(figsize=(15,15))\n",
    "plt.imshow(img)\n",
    "plt.axis('off')\n",
    "plt.show()"
   ]
  },
  {
   "cell_type": "code",
   "execution_count": null,
   "metadata": {},
   "outputs": [],
   "source": [
    "# Now with the float 0-1 representation\n",
    "img2 = img.astype(float)/255\n",
    "\n",
    "plt.figure(figsize=(15,15))\n",
    "plt.imshow(img2)\n",
    "#plt.axis('off')\n",
    "plt.show()"
   ]
  },
  {
   "cell_type": "markdown",
   "metadata": {},
   "source": [
    "__Visualizando cada canal__"
   ]
  },
  {
   "cell_type": "code",
   "execution_count": null,
   "metadata": {},
   "outputs": [],
   "source": [
    "img_d = img.copy()\n",
    "\n",
    "#red channel\n",
    "img_d[:,:,0]*=0\n",
    "img_d[:,:,1]*=0\n",
    "\n",
    "#red channel\n",
    "img_d[:,:,0]*=0\n",
    "img_d[:,:,1]*=0\n",
    "\n",
    "#red channel\n",
    "img_d[:,:,0]*=0\n",
    "img_d[:,:,1]*=0"
   ]
  },
  {
   "cell_type": "code",
   "execution_count": null,
   "metadata": {},
   "outputs": [],
   "source": [
    "plt.figure(figsize=(20,5))\n",
    "\n",
    "plt.subplot(1,3,1)\n",
    "img_d = img.copy()\n",
    "#red channel\n",
    "img_d[:,:,1]*=0\n",
    "img_d[:,:,2]*=0\n",
    "plt.imshow(img_d)\n",
    "plt.title('R')\n",
    "plt.axis('off')\n",
    "\n",
    "img_d = img.copy()          \n",
    "plt.subplot(1,3,2)\n",
    "#green channel\n",
    "img_d[:,:,0]*=0\n",
    "img_d[:,:,2]*=0\n",
    "plt.title('G')\n",
    "plt.imshow(img_d)\n",
    "plt.axis('off')\n",
    "\n",
    "plt.subplot(1,3,3)\n",
    "img_d = img.copy()\n",
    "#blue channel\n",
    "img_d[:,:,0]*=0\n",
    "img_d[:,:,1]*=0\n",
    "plt.title('B')\n",
    "plt.imshow(img_d)\n",
    "plt.axis('off')\n",
    "\n",
    "plt.show()"
   ]
  },
  {
   "cell_type": "markdown",
   "metadata": {},
   "source": [
    "__¡¡¡ Cuidado con lo que crees que estas viendo!!!__\n",
    "\n",
    "`plt.imshow()` usa interpolación para obtener imagenes suaves, por lo que no vemos exactamente la misma imagen que tenemos, si no una mejorada."
   ]
  },
  {
   "cell_type": "code",
   "execution_count": null,
   "metadata": {},
   "outputs": [],
   "source": [
    "y = np.load('data/cat.npy')\n",
    "plt.figure(figsize=(23,23))\n",
    "plt.imshow(y, cmap='afmhot')\n",
    "plt.axis('off')\n",
    "plt.show()"
   ]
  },
  {
   "cell_type": "code",
   "execution_count": null,
   "metadata": {},
   "outputs": [],
   "source": [
    "plt.figure(figsize=(22,22))\n",
    "plt.imshow(y, cmap='afmhot', interpolation='bilinear')\n",
    "plt.axis('off')\n",
    "plt.show()"
   ]
  },
  {
   "cell_type": "code",
   "execution_count": null,
   "metadata": {},
   "outputs": [],
   "source": [
    "plt.figure(figsize=(22,22))\n",
    "plt.imshow(y, cmap='afmhot', interpolation='bicubic')\n",
    "plt.axis('off')\n",
    "plt.show()"
   ]
  },
  {
   "cell_type": "markdown",
   "metadata": {},
   "source": [
    "__Veamos otro ejemplo__\n",
    "\n",
    "Ahora, Cargamos una imagen de muy baja resolución y la visualizamos:"
   ]
  },
  {
   "cell_type": "code",
   "execution_count": null,
   "metadata": {},
   "outputs": [],
   "source": [
    "_img = np.load('data/orion.npy')\n",
    "print(_img.shape)\n",
    "print(_img.dtype)"
   ]
  },
  {
   "cell_type": "code",
   "execution_count": null,
   "metadata": {},
   "outputs": [],
   "source": [
    "# no interpolation at all by default\n",
    "plt.figure(figsize=(10,10))\n",
    "plt.imshow(_img, cmap='afmhot')\n",
    "plt.axis('off')\n",
    "plt.show()"
   ]
  },
  {
   "cell_type": "code",
   "execution_count": null,
   "metadata": {},
   "outputs": [],
   "source": [
    "plt.figure(figsize=(10,10))\n",
    "plt.imshow(_img, cmap='afmhot', interpolation='bilinear')\n",
    "plt.axis('off')\n",
    "plt.show()"
   ]
  },
  {
   "cell_type": "code",
   "execution_count": null,
   "metadata": {},
   "outputs": [],
   "source": [
    "plt.figure(figsize=(10,10))\n",
    "plt.imshow(_img, cmap='afmhot', interpolation='bicubic')\n",
    "plt.axis('off')\n",
    "plt.show()"
   ]
  },
  {
   "cell_type": "markdown",
   "metadata": {},
   "source": [
    "### *Surfaces Plot*\n",
    "\n",
    "Ahora veremos como visualizar una función multivariada $f(x,y): \\mathbb{R}^2 \\rightarrow \\mathbb{R}$. Para esto, necesitamos la ayuda de un plot en 3D para poder representar esta superficie $f(x,y)$\n",
    "\n",
    "Primero, definimos una función multivariada:"
   ]
  },
  {
   "cell_type": "code",
   "execution_count": null,
   "metadata": {},
   "outputs": [],
   "source": [
    "def f(x,y):\n",
    "    return np.exp(-(x**2+y**2)) + 0.1 * np.sin(30*(x**2+y**2))"
   ]
  },
  {
   "cell_type": "markdown",
   "metadata": {},
   "source": [
    "Para poder evaluar nuestra función, necesitamos una **grilla** de puntos donde realizaremos la evaluación:"
   ]
  },
  {
   "cell_type": "code",
   "execution_count": null,
   "metadata": {},
   "outputs": [],
   "source": [
    "x = np.array([0., 0.25, 0.5, 0.75, 1.])\n",
    "y = np.array([0., 0.25, 0.5, 0.75, 1.])\n",
    "\n",
    "X,Y = np.meshgrid(x,y)\n",
    "\n",
    "print('X grid: \\n', X)\n",
    "print()\n",
    "print('Y grid: \\n', Y)"
   ]
  },
  {
   "cell_type": "code",
   "execution_count": null,
   "metadata": {},
   "outputs": [],
   "source": [
    "from mpl_toolkits.mplot3d import Axes3D\n",
    "\n",
    "fig = plt.figure(figsize=(9,9))\n",
    "ax = fig.gca(projection='3d')\n",
    "\n",
    "# Make data.\n",
    "X = np.arange(-5, 5, 0.25)\n",
    "Y = np.arange(-5, 5, 0.25)\n",
    "X, Y = np.meshgrid(X, Y)\n",
    "Z = f(X,Y)\n",
    "\n",
    "# Plot the surface.\n",
    "surf = ax.plot_surface(X, Y, Z, cmap=cm.coolwarm, linewidth=0, antialiased=False)\n",
    "\n",
    "# Customize the z axis.\n",
    "ax.set_zlim(-0.1, 1.1)\n",
    "\n",
    "# Add a color bar which maps values to colors.\n",
    "fig.colorbar(surf, shrink=0.5, aspect=5)\n",
    "\n",
    "plt.show();"
   ]
  },
  {
   "cell_type": "markdown",
   "metadata": {},
   "source": [
    "## Gráficos en 3D de puntos ( *3D Scatter Plot*)\n",
    "\n",
    "De la misma forma que realizabamos un gráfico de puntos en 2D, podemos hacerlo en un plano 3D."
   ]
  },
  {
   "cell_type": "code",
   "execution_count": null,
   "metadata": {},
   "outputs": [],
   "source": [
    "# we first generate N random points in the 3D space\n",
    "N = 1000\n",
    "x = np.random.random(N)\n",
    "y = np.random.random(N)\n",
    "z = np.random.random(N)\n",
    "\n",
    "# visualization of points\n",
    "fig = plt.figure(figsize=(9,9))\n",
    "ax = fig.add_subplot(111, projection='3d')\n",
    "ax.scatter(x, y, z, c='r', marker='o', s=10)\n",
    "ax.set_xlabel(r'$x$', fontsize = 20)\n",
    "ax.set_ylabel(r'$y$', fontsize = 20)\n",
    "ax.set_zlabel(r'$z$', fontsize = 20)\n",
    "plt.title('3D scatter plot', fontsize = 20)\n",
    "plt.show()"
   ]
  },
  {
   "cell_type": "markdown",
   "metadata": {},
   "source": [
    "<div id='interact' />\n",
    "## 2.- Visualización interactiva\n",
    "\n",
    "### 2.1-* `interact` IPython Widget*\n",
    "\n",
    "La función `interact` (`ipywidgets.interact`) automaticamente crea *UI controls* (controles de interfaz de usuario, *user interface controls*) para explorar código y *data* de forma interactiva. Es la forma más sencilla de empezar a usar estos *IPython’s widgets*. "
   ]
  },
  {
   "cell_type": "code",
   "execution_count": null,
   "metadata": {},
   "outputs": [],
   "source": [
    "from ipywidgets import interact"
   ]
  },
  {
   "cell_type": "markdown",
   "metadata": {},
   "source": [
    "En el nivel mas básico, `interact` autogenera estos *UI Controls* para argumentos de las funciones, y luego llama a la función con esos argumentos cuando manipulas los controles interactivamente. Para usar `interact` se necesita definir una función que tu desees controlar mediante estos controles. Por ejemplo, aqui tenemos una función de ejemplo que devuelve su único argumento $x$."
   ]
  },
  {
   "cell_type": "code",
   "execution_count": null,
   "metadata": {},
   "outputs": [],
   "source": [
    "def f(x):\n",
    "    return x"
   ]
  },
  {
   "cell_type": "markdown",
   "metadata": {},
   "source": [
    "Cuando pasas esta función como primer argumento a `interact`, junto con un argumento entero como *keyword* (x = 10), un *slider* es generado y unido al parámetro de la función:"
   ]
  },
  {
   "cell_type": "code",
   "execution_count": null,
   "metadata": {},
   "outputs": [],
   "source": [
    "interact(f, x=10);"
   ]
  },
  {
   "cell_type": "markdown",
   "metadata": {},
   "source": [
    "Cuando se mueve el *slider*, la función es llamada, lo cual devuelve el valor actual de $x$.\n",
    "\n",
    "Si tomamos como parámetros Verdadero o Falso (*True* o *False* en *Python*), `interact` genéra un *checkbox*:"
   ]
  },
  {
   "cell_type": "code",
   "execution_count": null,
   "metadata": {},
   "outputs": [],
   "source": [
    "interact(f, x=True);"
   ]
  },
  {
   "cell_type": "markdown",
   "metadata": {},
   "source": [
    "Si pasamos un string, `interact` generará un espacio para texto:"
   ]
  },
  {
   "cell_type": "code",
   "execution_count": null,
   "metadata": {},
   "outputs": [],
   "source": [
    "interact(f, x='Hi there!');"
   ]
  },
  {
   "cell_type": "markdown",
   "metadata": {},
   "source": [
    "`interact` tambien puede ser usado como un \"decorador\". Esto permite definir una función y un `interact` en una sola linea (¡dos por uno!). Como se muestra en el siguiente ejemplo, `interact` tambien trabaja con funciónes que reciben multiples argumentos:"
   ]
  },
  {
   "cell_type": "code",
   "execution_count": null,
   "metadata": {},
   "outputs": [],
   "source": [
    "@interact(x=True, y=1.0)\n",
    "def g(x, y):\n",
    "    return (x, y)"
   ]
  },
  {
   "cell_type": "markdown",
   "metadata": {},
   "source": [
    "### Fijando argumentos con `fixed`\n",
    "Hay veces donde queremos explorar una función usando interact, pero dejando fijo uno o mas argumentos en un valor especifico. Para esto, podemos llamar a la función `fixed`, la cual fija un elemento de nuestra elección."
   ]
  },
  {
   "cell_type": "code",
   "execution_count": null,
   "metadata": {},
   "outputs": [],
   "source": [
    "from ipywidgets import fixed"
   ]
  },
  {
   "cell_type": "code",
   "execution_count": null,
   "metadata": {},
   "outputs": [],
   "source": [
    "def h(p, q):\n",
    "    return (p, q)"
   ]
  },
  {
   "cell_type": "markdown",
   "metadata": {},
   "source": [
    "Cuando llamamos a `interact`, pasamos `fixed(20)` como parámetro fijo a $q$ dejandolo en 20, y exploramos el valor de $p$:"
   ]
  },
  {
   "cell_type": "code",
   "execution_count": null,
   "metadata": {},
   "outputs": [],
   "source": [
    "interact(h, p=5, q=fixed(20));"
   ]
  },
  {
   "cell_type": "markdown",
   "metadata": {},
   "source": [
    "### Tipos de *Widgets* y abreviaciones"
   ]
  },
  {
   "cell_type": "code",
   "execution_count": null,
   "metadata": {},
   "outputs": [],
   "source": [
    "from ipywidgets import IntSlider, FloatSlider"
   ]
  },
  {
   "cell_type": "markdown",
   "metadata": {},
   "source": [
    "* __Checkbox__: Verdadero o Falso (`True` or `False`)"
   ]
  },
  {
   "cell_type": "code",
   "execution_count": null,
   "metadata": {},
   "outputs": [],
   "source": [
    "interact(f, x=True);"
   ]
  },
  {
   "cell_type": "markdown",
   "metadata": {},
   "source": [
    "* __Texto__: Argumento: `un string` "
   ]
  },
  {
   "cell_type": "code",
   "execution_count": null,
   "metadata": {},
   "outputs": [],
   "source": [
    "interact(f, x='hi there');"
   ]
  },
  {
   "cell_type": "markdown",
   "metadata": {},
   "source": [
    "* __IntSlider__: `valor` o `(min, max)` o `(min, max, step)`\n",
    "\n",
    "Cuando pasamos un valor entero como argumento (`x=10`) a nuestro `interact`, este genera un *slider* con valores enteros en  un rango de `[-10,+3*10]`: "
   ]
  },
  {
   "cell_type": "code",
   "execution_count": null,
   "metadata": {},
   "outputs": [],
   "source": [
    "IntSlider(min=-10,max=30,step=1,value=10)"
   ]
  },
  {
   "cell_type": "code",
   "execution_count": null,
   "metadata": {},
   "outputs": [],
   "source": [
    "interact(f, x=IntSlider(min=-10,max=30,step=1,value=10));"
   ]
  },
  {
   "cell_type": "markdown",
   "metadata": {},
   "source": [
    "Aunque también podemos usar abreviaciones para evadir los `IntSlider`:"
   ]
  },
  {
   "cell_type": "code",
   "execution_count": null,
   "metadata": {},
   "outputs": [],
   "source": [
    "interact(f, x=(500,1000,4));"
   ]
  },
  {
   "cell_type": "markdown",
   "metadata": {},
   "source": [
    "* __Float__: `valor` or `(min,max)` or `(min, max, step)`\n",
    "\n",
    "Lo mismo aplica para valores flotantes, usando el contructor `FloatSlider`, o en su forma abreviada."
   ]
  },
  {
   "cell_type": "code",
   "execution_count": null,
   "metadata": {},
   "outputs": [],
   "source": [
    "interact(f, x=FloatSlider(min=-2., max=7., step=0.1, value=2.));"
   ]
  },
  {
   "cell_type": "code",
   "execution_count": null,
   "metadata": {},
   "outputs": [],
   "source": [
    "interact(f, x=(-2., 7., 0.1));"
   ]
  },
  {
   "cell_type": "markdown",
   "metadata": {},
   "source": [
    "* __Dropdown__: `['string1', 'string2']` o `{'string1':valor1, 'string2':valor2}`."
   ]
  },
  {
   "cell_type": "code",
   "execution_count": null,
   "metadata": {},
   "outputs": [],
   "source": [
    "interact(f, x=['orange', 'apple']);"
   ]
  },
  {
   "cell_type": "code",
   "execution_count": null,
   "metadata": {},
   "outputs": [],
   "source": [
    "interact(f, x={1:'orange', 2:'apple'});"
   ]
  },
  {
   "cell_type": "markdown",
   "metadata": {},
   "source": [
    "## 2.2- Usando `interact` para la visualización\n",
    "\n",
    "Ahora que conocemos las herramientas de __`matplotlib`__ y __`interact`__, tenemos todo lo que necesitamos para la ¡¡__visualización interactiva__!!\n",
    "\n",
    "Primero, veremos un tema muy interesante. __¡¡Como girar un gráfico en 3D!!__"
   ]
  },
  {
   "cell_type": "markdown",
   "metadata": {},
   "source": [
    "Para esta sección usaremos estas herramientas para mostrar *data* de forma interactiva sobre una calle con autos que poseen una cierta posición $x_i$ y una cierta velocidad $v_i$:"
   ]
  },
  {
   "cell_type": "code",
   "execution_count": null,
   "metadata": {},
   "outputs": [],
   "source": [
    "#Cars functions\n",
    "def init_cars(street_length, ncars):\n",
    "    cars_pos = np.arange(ncars, dtype=np.float) + 0.2*np.random.rand(ncars)\n",
    "    cars_vel = 0.2 *np.random.rand(ncars) #np.ones(ncars)\n",
    "    pos_history = [cars_pos]\n",
    "    return cars_pos, cars_vel, pos_history\n",
    "    \n",
    "def car_distances(cars_pos, street_length):\n",
    "    dists = np.roll(cars_pos,-1) - cars_pos\n",
    "    maxindex = np.argmax(cars_pos)\n",
    "    dists[maxindex] = street_length - cars_pos[maxindex] + cars_pos[(maxindex+1)%(dists.shape[0]-1)] \n",
    "    return dists\n",
    "\n",
    "def timestep(cars_pos, cars_vel, street_length, pos_history):\n",
    "    _cars_vel = update_speeds(cars_pos, cars_vel, street_length)\n",
    "    cars_pos = (cars_pos + _cars_vel ) % street_length\n",
    "    return cars_pos\n",
    "    \n",
    "def update_speeds(cars_pos, cars_vel, street_length):\n",
    "    _car_distances = np.clip(car_distances(cars_pos, street_length), a_min=0, a_max=2)\n",
    "    cars_vel = np.multiply(cars_vel, _car_distances)\n",
    "    cars_vel = np.clip(cars_vel, a_min=0.01, a_max=_car_distances/3)\n",
    "    return cars_vel\n",
    "\n",
    "def plot_positions(_timestep, ncars, pos_history, street_length):\n",
    "    fig = plt.figure(figsize=(14,5))\n",
    "    colors = cm.rainbow(np.linspace(0, 1, ncars))\n",
    "    for i in range(ncars):\n",
    "        plt.scatter(pos_history[_timestep][i],0,c=colors[i], label=\"car \"+ str(i))\n",
    "    plt.xlim(-1,street_length+1)\n",
    "    plt.grid()\n",
    "    plt.ylim(-1,1)\n",
    "    plt.show()\n",
    "\n",
    "\n",
    "ncars = 40\n",
    "street_length = 50\n",
    "cars_pos, cars_vel, pos_history = init_cars(street_length, ncars)\n",
    "steps =300\n",
    "for i in range(steps):\n",
    "    cars_pos = timestep(cars_pos, cars_vel, street_length, pos_history)\n",
    "    pos_history.append(cars_pos)"
   ]
  },
  {
   "cell_type": "code",
   "execution_count": null,
   "metadata": {},
   "outputs": [],
   "source": [
    "interact(plot_positions, _timestep = (0,len(pos_history)-1,1), \n",
    "                 ncars = fixed(ncars), \n",
    "                 pos_history = fixed(pos_history),\n",
    "                 street_length = fixed(street_length))"
   ]
  },
  {
   "cell_type": "markdown",
   "metadata": {},
   "source": [
    "## ¿Y si quisieramos una \"animación de nuestra función\"?"
   ]
  },
  {
   "cell_type": "markdown",
   "metadata": {},
   "source": [
    "`interact` nos permite tambien crear animaciones interactivas. Para eso, definimos un widget de tipo `Play`, el cual contiene los intervalos de la animación a mostrar, los pasos que dara cada *frame* de animación, el botón de *Play*, entre otros."
   ]
  },
  {
   "cell_type": "code",
   "execution_count": null,
   "metadata": {},
   "outputs": [],
   "source": [
    "from ipywidgets import Play, jslink, HBox\n",
    "\n",
    "min_value = 0\n",
    "max_value = len(pos_history)-1\n",
    "steps = 1\n",
    "play = Play(\n",
    "    #interval=10,\n",
    "    value=0,\n",
    "    min=min_value,\n",
    "    max=max_value,\n",
    "    step=steps,\n",
    "    description=\"Press play\",\n",
    "    disabled=False\n",
    ")\n",
    "slider = IntSlider(min=min_value, max=max_value, step=steps)\n",
    "jslink((play, 'value'), (slider, 'value'))\n",
    "HBox([play, slider])\n",
    "interact(plot_positions, _timestep = play, \n",
    "                                      ncars = fixed(ncars), \n",
    "                                      pos_history = fixed(pos_history),\n",
    "                                      street_length = fixed(street_length))"
   ]
  },
  {
   "cell_type": "markdown",
   "metadata": {},
   "source": [
    "## ¿Y si quisieramos un video de nuestra animación? ¿Podemos mostrarlo dentro del *notebook*?"
   ]
  },
  {
   "cell_type": "markdown",
   "metadata": {},
   "source": [
    "Por supuesto!! para esto, definimos una función \"animate(k)\", donde k será un parámetro que representa cada gráfico que mostraremos. La función `animation` de matplotlib nos ayuda a juntar todas estas \"fotos\" tomadas a nuestro gráfico y recopilarlo en un video.\n",
    "\n",
    "_Nota: Para esto, cada vez que generemos un gráfico deberemos limpiar el buffer con plt.clf()_."
   ]
  },
  {
   "cell_type": "code",
   "execution_count": null,
   "metadata": {},
   "outputs": [],
   "source": [
    "import matplotlib.pyplot as plt\n",
    "import matplotlib.animation as animation\n",
    "import time\n",
    "from IPython.display import HTML\n",
    "\n",
    "fig = plt.figure(figsize=(15, 8))\n",
    "ax1 = fig.add_subplot(1,1,1)\n",
    "\n",
    "def animate(_timestep): \n",
    "    plt.clf()\n",
    "    colors = cm.rainbow(np.linspace(0, 1, ncars))\n",
    "    for i in range(ncars):\n",
    "        plt.scatter(pos_history[_timestep][i],0,c=colors[i], label=\"car \"+ str(i))\n",
    "    plt.xlim(-1,street_length+1)\n",
    "    plt.grid()\n",
    "    plt.ylim(-1,1)\n",
    "    \n",
    "ani = animation.FuncAnimation(fig, animate, frames=np.arange(300), interval=50)\n",
    "HTML(ani.to_html5_video())"
   ]
  },
  {
   "cell_type": "markdown",
   "metadata": {},
   "source": [
    "## ¿Y si quisieramos llevar estos gráficos al 3D? ¿Podemos ver estos gráficos desde distintas perspectivas?"
   ]
  },
  {
   "cell_type": "markdown",
   "metadata": {},
   "source": [
    "__¡¡Por supuesto!!__, los `widgets` hacen de todo =)!`"
   ]
  },
  {
   "cell_type": "code",
   "execution_count": null,
   "metadata": {},
   "outputs": [],
   "source": [
    "def interactive_3D_plot(N= 10, elev = 30,azim=30):\n",
    "    # we first generate N random points in the 3D space\n",
    "    x = np.random.random(N)\n",
    "    y = np.random.random(N)\n",
    "    z = np.random.random(N)\n",
    "\n",
    "    # visualization of points\n",
    "    fig = plt.figure(figsize=(12,12))\n",
    "    ax = fig.add_subplot(111, projection='3d')\n",
    "    ax.scatter(x, y, z, c='r', marker='o', s=10)\n",
    "    ax.set_xlabel(r'$x$', fontsize = 20)\n",
    "    ax.set_ylabel(r'$y$', fontsize = 20)\n",
    "    ax.set_zlabel(r'$z$', fontsize = 20)\n",
    "    ax.view_init(elev,azim)\n",
    "    plt.title('3D scatter plot', fontsize = 20)\n",
    "    plt.show()"
   ]
  },
  {
   "cell_type": "code",
   "execution_count": null,
   "metadata": {},
   "outputs": [],
   "source": [
    "elev_widget = IntSlider(min=0,max=180,step=10,value=0)\n",
    "azim_widget = IntSlider(min=0,max=360,step=10,value=90)\n",
    "interact(interactive_3D_plot, N=(10, 100, 10), elev=elev_widget,azim=azim_widget)"
   ]
  },
  {
   "cell_type": "markdown",
   "metadata": {},
   "source": [
    "## Actividad "
   ]
  },
  {
   "cell_type": "markdown",
   "metadata": {},
   "source": [
    "En esta actividad realizaremos la simulación de el movimiento de dos pendulos acoplados. La el sistema de ecuaciones diferenciales que representa este movimiento es el siguiente:"
   ]
  },
  {
   "cell_type": "markdown",
   "metadata": {},
   "source": [
    "\\begin{align}\n",
    "\\dot{y}_1 &= y_2 \\\\\n",
    "\\dot{y}_2 &= \\frac{-3g\\sin{(y_1)} - g\\sin{(y_1 - 2y_3)} - 2\\sin{(y_1 - y_3)}(y_4^2 - y_2^2\\cos{(y_1 - y_3)})}{3 - \\cos{(2y_1 - 2y_3)}} - dy_2 \\\\\n",
    "\\dot{y}_3 &= y_4 \\\\\n",
    "\\dot{y}_4 &= \\frac{2\\sin{(y_1 - y_3)[2y_2^2 + 2g\\cos{(y_1) + y_4^2\\cos(y_1 - y_3)}]}}{3 - \\cos{(2y_1 - 2y_3)}}\n",
    "\\end{align}"
   ]
  },
  {
   "cell_type": "markdown",
   "metadata": {},
   "source": [
    "Donde $y_1$ e $y_3$ son los ángulos respectivos para de las dos masas respecto a la vertical, $g$ es la constante de gravedad y $d$ es la fricción del pivote. Para resolver este problema, usaremos un método bastante conocido para resolver problemas de valor incicial: El __Método de euler__. Para ello en cada componente $\\mathbf{y}$ , se se representa del siguiente modo ($\\Delta t$ _time step_ y $k$ número de iteración):\n",
    "$$\n",
    "\\Rightarrow \\mathbf{y}^{(k+1)} = H(\\mathbf{y}^{(k)}) \\Delta t + \\mathbf{y}^{(k)} \n",
    "$$\n",
    "  \n",
    "Donde esta iteración debe llevarse a cabo para todas componentes $y_i$, $i\\in \\{ 1,2,3,4\\}$, partiendo de condiciones iniciales $(\\mathbf{y})$."
   ]
  },
  {
   "cell_type": "markdown",
   "metadata": {},
   "source": [
    "Modele y resuelva el movimiento del péndulo acoplado con las siguientes condiciones:"
   ]
  },
  {
   "cell_type": "code",
   "execution_count": null,
   "metadata": {},
   "outputs": [],
   "source": [
    "#Gravity\n",
    "g = 9.81\n",
    "#Max time of simulation\n",
    "T = 100000\n",
    "#h\n",
    "h = 0.001\n",
    "#Friccion\n",
    "d = 0\n",
    "#Initial angle of pendulum 1\n",
    "y1 = np.pi/2\n",
    "#Initial angular velocity of pendulum 1\n",
    "y2 = 0\n",
    "#Initial angle of pendulum 2\n",
    "y3 = np.pi/4\n",
    "#Initial angular velocity of pendulum 2\n",
    "y4 = 0"
   ]
  },
  {
   "cell_type": "markdown",
   "metadata": {},
   "source": [
    "Haga que su función devuelva un arreglo con los cuatro valores de $\\mathbf{y}$ en cada iteración. Grafique con un *widget* el movimiento del péndulo. Adicionalmente, haga un *widget* la animación de su movimiento, y una animación con `matplotlib.animation`. "
   ]
  },
  {
   "cell_type": "markdown",
   "metadata": {},
   "source": [
    "![This is an image](data/pendulum.png)"
   ]
  }
 ],
 "metadata": {
  "kernelspec": {
   "display_name": "Python 3",
   "language": "python",
   "name": "python3"
  },
  "language_info": {
   "codemirror_mode": {
    "name": "ipython",
    "version": 3
   },
   "file_extension": ".py",
   "mimetype": "text/x-python",
   "name": "python",
   "nbconvert_exporter": "python",
   "pygments_lexer": "ipython3",
   "version": "3.5.4"
  }
 },
 "nbformat": 4,
 "nbformat_minor": 2
}
